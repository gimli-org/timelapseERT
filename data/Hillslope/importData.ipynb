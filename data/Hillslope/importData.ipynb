{
 "cells": [
  {
   "cell_type": "code",
   "execution_count": 1,
   "metadata": {},
   "outputs": [],
   "source": [
    "from pygimli.physics import ert"
   ]
  },
  {
   "cell_type": "code",
   "execution_count": 2,
   "metadata": {},
   "outputs": [],
   "source": [
    "from glob import glob\n",
    "from datetime import datetime\n",
    "filenames = glob(\"data/*.data\")"
   ]
  },
  {
   "cell_type": "code",
   "execution_count": 3,
   "metadata": {},
   "outputs": [
    {
     "data": {
      "text/plain": [
       "24"
      ]
     },
     "execution_count": 3,
     "metadata": {},
     "output_type": "execute_result"
    }
   ],
   "source": [
    "times = [datetime.fromisoformat(fn[12:-5]) for fn in filenames]\n",
    "len(times)"
   ]
  },
  {
   "cell_type": "code",
   "execution_count": 4,
   "metadata": {},
   "outputs": [
    {
     "name": "stdout",
     "output_type": "stream",
     "text": [
      "Timelapse ERT data:\n",
      "Data: Sensors: 50 data: 784, nonzero entries: ['a', 'b', 'err', 'ip', 'k', 'm', 'n', 'r', 'rhoa', 'valid']\n",
      "24 time steps from 2008-05-09 00:00 to 2008-12-02 00:00\n"
     ]
    }
   ],
   "source": [
    "self = ert.TimelapseERT(\"data/*.data\", times=times)\n",
    "print(self)\n",
    "self.saveData(\"MuldaA\")"
   ]
  }
 ],
 "metadata": {
  "kernelspec": {
   "display_name": "pg14",
   "language": "python",
   "name": "python3"
  },
  "language_info": {
   "codemirror_mode": {
    "name": "ipython",
    "version": 3
   },
   "file_extension": ".py",
   "mimetype": "text/x-python",
   "name": "python",
   "nbconvert_exporter": "python",
   "pygments_lexer": "ipython3",
   "version": "3.9.16"
  },
  "orig_nbformat": 4
 },
 "nbformat": 4,
 "nbformat_minor": 2
}
