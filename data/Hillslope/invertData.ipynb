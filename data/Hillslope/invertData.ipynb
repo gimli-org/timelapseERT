{
 "cells": [
  {
   "cell_type": "code",
   "execution_count": 48,
   "metadata": {},
   "outputs": [],
   "source": [
    "from pygimli.physics import ert"
   ]
  },
  {
   "cell_type": "code",
   "execution_count": 49,
   "metadata": {},
   "outputs": [],
   "source": [
    "from glob import glob\n",
    "from datetime import datetime\n",
    "filenames = glob(\"data/*.data\")"
   ]
  },
  {
   "cell_type": "code",
   "execution_count": 50,
   "metadata": {},
   "outputs": [
    {
     "data": {
      "text/plain": [
       "24"
      ]
     },
     "execution_count": 50,
     "metadata": {},
     "output_type": "execute_result"
    }
   ],
   "source": [
    "times = [datetime.fromisoformat(fn[12:-5]) for fn in filenames]\n",
    "len(times)"
   ]
  },
  {
   "cell_type": "code",
   "execution_count": 51,
   "metadata": {},
   "outputs": [
    {
     "name": "stdout",
     "output_type": "stream",
     "text": [
      "Timelapse ERT data:\n",
      "Data: Sensors: 50 data: 784, nonzero entries: ['a', 'b', 'err', 'ip', 'k', 'm', 'n', 'r', 'rhoa', 'valid']\n",
      "24 time steps from 2008-05-09 00:00 to 2008-12-02 00:00\n"
     ]
    }
   ],
   "source": [
    "self = ert.TimelapseERT(\"data/*.data\", times=times)\n",
    "print(self)\n",
    "self.saveData(\"MuldaA\")"
   ]
  },
  {
   "cell_type": "code",
   "execution_count": 72,
   "metadata": {},
   "outputs": [
    {
     "name": "stderr",
     "output_type": "stream",
     "text": [
      "23/10/23 - 19:57:37 - pyGIMLi - \u001b[0;32;49mINFO\u001b[0m - Found 2 regions.\n",
      "23/10/23 - 19:57:37 - pyGIMLi - \u001b[0;32;49mINFO\u001b[0m - (ERTModelling) Region with smallest marker (1) set to background.\n",
      "23/10/23 - 19:57:37 - pyGIMLi - \u001b[0;32;49mINFO\u001b[0m - Creating forward mesh from region infos.\n",
      "23/10/23 - 19:57:37 - pyGIMLi - \u001b[0;32;49mINFO\u001b[0m - Creating refined mesh (H2) to solve forward task.\n",
      "23/10/23 - 19:57:37 - pyGIMLi - \u001b[0;32;49mINFO\u001b[0m - Mesh for forward task: Mesh: Nodes: 1969 Cells: 3672 Boundaries: 2886\n"
     ]
    },
    {
     "name": "stdout",
     "output_type": "stream",
     "text": [
      "\n",
      "\n",
      "[0.39633399622219306, 61.704412591228134, 103.48822980428335, 147.6365859988996, 154.54576172303908, 167.93432865530102, 167.73188070268932, 171.87806582614903, 138.20861357251277, 111.26494029264012, 123.95098178178024, 171.52489994851788, 230.35705727534017, 202.48454912697937, 205.01043383569217, 208.2337237753063, 168.7168811756817, 175.4175227389439, 186.1367357405445, 174.58309555411697, 118.92530336704095, 115.67217379054395, 104.69347251161422, 110.19304764630196]\n"
     ]
    }
   ],
   "source": [
    "self.createMesh(paraDepth=8)\n",
    "self.invert(zWeight=0.2, lam=200, creep=True, verbose=False,\n",
    "            regTL={\"cType\": 0, \"lam\": 100})\n",
    "print(self.chi2s)"
   ]
  },
  {
   "cell_type": "code",
   "execution_count": 53,
   "metadata": {},
   "outputs": [
    {
     "name": "stderr",
     "output_type": "stream",
     "text": [
      "23/10/23 - 13:07:07 - pyGIMLi - \u001b[0;32;49mINFO\u001b[0m - Found 2 regions.\n",
      "23/10/23 - 13:07:07 - pyGIMLi - \u001b[0;32;49mINFO\u001b[0m - Region with smallest marker (1) set to background\n",
      "23/10/23 - 13:07:07 - pyGIMLi - \u001b[0;32;49mINFO\u001b[0m - Creating forward mesh from region infos.\n",
      "23/10/23 - 13:07:07 - pyGIMLi - \u001b[0;32;49mINFO\u001b[0m - Creating refined mesh (H2) to solve forward task.\n",
      "23/10/23 - 13:07:07 - pyGIMLi - \u001b[0;32;49mINFO\u001b[0m - Mesh for forward task: Mesh: Nodes: 1969 Cells: 3672 Boundaries: 2886\n",
      "23/10/23 - 13:07:08 - pyGIMLi - \u001b[0;32;49mINFO\u001b[0m - Starting inversion.\n"
     ]
    },
    {
     "name": "stdout",
     "output_type": "stream",
     "text": [
      "701 model cells\n",
      "Mesh: Nodes: 1969 Cells: 3672 Boundaries: 2886\n",
      "fop: <pygimli.frameworks.timelapse.MultiFrameModelling object at 0x00000168D6E15090>\n",
      "Data transformation: <pgcore._pygimli_.RTrans object at 0x00000168D7DF1BE0>\n",
      "Model transformation: <pgcore._pygimli_.RTransLog object at 0x000001683CB4A2C0>\n",
      "min/max (data): 201/3170\n",
      "min/max (error): 3%/3%\n",
      "min/max (start model): 504/504\n",
      "--------------------------------------------------------------------------------\n",
      "chi² = 154.56\n",
      "--------------------------------------------------------------------------------\n",
      "inv.iter 1 ... chi² = 32.08 (dPhi = 78.5%) lam: 20\n",
      "--------------------------------------------------------------------------------\n",
      "inv.iter 2 ... chi² = 6.16 (dPhi = 76.82%) lam: 20.0\n",
      "--------------------------------------------------------------------------------\n",
      "inv.iter 3 ... chi² = 1.17 (dPhi = 63.22%) lam: 20.0\n",
      "--------------------------------------------------------------------------------\n",
      "inv.iter 4 ... chi² = 0.82 (dPhi = 11.36%) lam: 20.0\n",
      "\n",
      "\n",
      "################################################################################\n",
      "#                  Abort criterion reached: chi² <= 1 (0.82)                   #\n",
      "################################################################################\n"
     ]
    },
    {
     "data": {
      "text/plain": [
       "16824 [1272.4064079607008,...,254.96601501137292]"
      ]
     },
     "execution_count": 53,
     "metadata": {},
     "output_type": "execute_result"
    }
   ],
   "source": [
    "# self.fullInversion()"
   ]
  },
  {
   "cell_type": "code",
   "execution_count": 54,
   "metadata": {},
   "outputs": [
    {
     "data": {
      "text/plain": [
       "<Figure size 800x500 with 0 Axes>"
      ]
     },
     "metadata": {},
     "output_type": "display_data"
    }
   ],
   "source": [
    "self.generateModelPDF(cMin=100, cMax=3000)"
   ]
  },
  {
   "cell_type": "code",
   "execution_count": 67,
   "metadata": {},
   "outputs": [
    {
     "data": {
      "text/plain": [
       "<Figure size 800x500 with 0 Axes>"
      ]
     },
     "metadata": {},
     "output_type": "display_data"
    }
   ],
   "source": [
    "self.generateRatioPDF(cMax=5, creep=True)"
   ]
  },
  {
   "cell_type": "code",
   "execution_count": 56,
   "metadata": {},
   "outputs": [
    {
     "data": {
      "text/plain": [
       "<Figure size 500x500 with 0 Axes>"
      ]
     },
     "metadata": {},
     "output_type": "display_data"
    }
   ],
   "source": [
    "self.generateDataPDF(cMin=100, cMax=3000)"
   ]
  }
 ],
 "metadata": {
  "kernelspec": {
   "display_name": "pg14",
   "language": "python",
   "name": "python3"
  },
  "language_info": {
   "codemirror_mode": {
    "name": "ipython",
    "version": 3
   },
   "file_extension": ".py",
   "mimetype": "text/x-python",
   "name": "python",
   "nbconvert_exporter": "python",
   "pygments_lexer": "ipython3",
   "version": "3.9.16"
  },
  "orig_nbformat": 4
 },
 "nbformat": 4,
 "nbformat_minor": 2
}
